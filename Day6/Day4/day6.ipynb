{
  "nbformat": 4,
  "nbformat_minor": 0,
  "metadata": {
    "colab": {
      "provenance": [],
      "authorship_tag": "ABX9TyPIVHOHCPn6l0tNRvVLYSje",
      "include_colab_link": true
    },
    "kernelspec": {
      "name": "python3",
      "display_name": "Python 3"
    },
    "language_info": {
      "name": "python"
    }
  },
  "cells": [
    {
      "cell_type": "markdown",
      "metadata": {
        "id": "view-in-github",
        "colab_type": "text"
      },
      "source": [
        "<a href=\"https://colab.research.google.com/github/harshitha-0531/Predicting_future_stores_sales/blob/main/day6.ipynb\" target=\"_parent\"><img src=\"https://colab.research.google.com/assets/colab-badge.svg\" alt=\"Open In Colab\"/></a>"
      ]
    },
    {
      "cell_type": "code",
      "source": [
        "pip install statsmodels"
      ],
      "metadata": {
        "id": "z_frXQJRbAHN"
      },
      "execution_count": null,
      "outputs": []
    },
    {
      "cell_type": "code",
      "execution_count": null,
      "metadata": {
        "id": "_IidcoOzgCm0"
      },
      "outputs": [],
      "source": [
        "import pandas as pd\n",
        "import numpy as np\n",
        "import matplotlib.pyplot as plt\n",
        "import seaborn as sns\n",
        "import kagglehub\n",
        "import statsmodels.api as sm\n",
        "from statsmodels.tsa.arima.model import ARIMA\n",
        "from statsmodels.tsa.stattools import adfuller\n",
        "from statsmodels.graphics.tsaplots import plot_acf, plot_pacf\n",
        "from sklearn.metrics import mean_squared_error, r2_score\n",
        "sns.set_style('whitegrid')\n",
        "plt.rcParams['figure.figsize']=(12,8)\n"
      ]
    },
    {
      "cell_type": "code",
      "source": [
        "!git clone https://github.com/GeeksforgeeksDS/21-Days-21-Projects-Dataset.git\n"
      ],
      "metadata": {
        "id": "rm7Aw1Scj3W4"
      },
      "execution_count": null,
      "outputs": []
    },
    {
      "cell_type": "code",
      "source": [
        "df= pd.read_csv('/content/21-Days-21-Projects-Dataset/Datasets/airline_passenger_timeseries.csv')\n",
        "df.head(5)"
      ],
      "metadata": {
        "id": "sTiKaWqwkTsL"
      },
      "execution_count": null,
      "outputs": []
    },
    {
      "cell_type": "code",
      "source": [
        "df.info()\n",
        "df.describe()\n"
      ],
      "metadata": {
        "id": "7QzKT0AxkasU"
      },
      "execution_count": null,
      "outputs": []
    },
    {
      "cell_type": "code",
      "metadata": {
        "id": "ecd48e9e"
      },
      "source": [
        "plt.figure(figsize=(12, 6))\n",
        "plt.plot(df['Month'], df['Passengers'])\n",
        "plt.xlabel('Month')\n",
        "plt.ylabel('Number of Passengers')\n",
        "plt.title('Airline Passengers Over Time')\n",
        "plt.xticks(df['Month'][::12]) # Show only yearly ticks for clarity\n",
        "plt.grid(True)\n",
        "plt.show()"
      ],
      "execution_count": null,
      "outputs": []
    },
    {
      "cell_type": "code",
      "source": [
        "from statsmodels.tsa.seasonal import seasonal_decompose\n",
        "import pandas as pd\n",
        "\n",
        "# Load the dataframe\n",
        "df= pd.read_csv('/content/21-Days-21-Projects-Dataset/Datasets/airline_passenger_timeseries.csv')\n",
        "\n",
        "df['Month'] = pd.to_datetime(df['Month']) # Access the 'Month' column\n",
        "df.set_index('Month', inplace=True) # Re-set the index (optional, but good practice)\n",
        "\n",
        "\n",
        "decomposition = seasonal_decompose(df['Passengers'], model='additive')\n",
        "decomposition.plot()\n",
        "plt.show()"
      ],
      "metadata": {
        "id": "CYZ4jd5hlzGi"
      },
      "execution_count": null,
      "outputs": []
    },
    {
      "cell_type": "code",
      "source": [
        "def test_stationarity(timeseries):\n",
        "  print(\"Result of Dickey-Fuller test:\")\n",
        "  dftest= adfuller(timeseries, autolag='AIC')\n",
        "  dfoutput= pd.Series(dftest[0:4], index=['Test Statistic', 'p-value', '#Lags Used', 'Number of Observations Used'])\n",
        "  for key, value in dftest[4].items():\n",
        "    dfoutput['Critical Value (%s)' %key]= value\n",
        "  print(dfoutput)\n",
        "test_stationarity(df['Passengers'])\n"
      ],
      "metadata": {
        "id": "pqXjtWRmq9Up"
      },
      "execution_count": null,
      "outputs": []
    },
    {
      "cell_type": "code",
      "source": [
        "df_log=np.log(df['Passengers'])\n",
        "df_diff=df_log.diff().dropna()\n",
        "df_diff.plot()\n",
        "plt.title('Logarithmic Transformation')\n",
        "plt.show()\n",
        "test_stationarity(df_log)\n",
        "test_stationarity(df_diff)"
      ],
      "metadata": {
        "id": "6gp6oXd7dAV2"
      },
      "execution_count": null,
      "outputs": []
    },
    {
      "cell_type": "code",
      "source": [
        "fig,(ax1,ax2)= plt.subplots(2,1, figsize=(12,8))\n",
        "plot_acf(df_diff)\n",
        "plot_pacf(df_diff)\n",
        "plt.show()\n"
      ],
      "metadata": {
        "id": "03hmgFnIsMUx"
      },
      "execution_count": null,
      "outputs": []
    },
    {
      "cell_type": "code",
      "source": [
        "# split data into taining and test sets\n",
        "train_data =df_log[:'1958']\n",
        "test_data =df_log['1959':]\n",
        "model=ARIMA(train_data,order=(1,1,1,),freq='MS')\n",
        "arima_res=model.fit()\n",
        "forecast=arima_res.get_forecast(steps=len(test_data))\n",
        "forecast_ci=forecast.conf_int()\n",
        "\n",
        "plt.figure(figsize=(14, 7))\n",
        "plt.plot(df_log, label=' Log Data')\n",
        "plt.plot(forecast.predicted_mean, label='Forecast')\n",
        "plt.fill_between(forecast_ci.index, forecast_ci.iloc[:, 0], forecast_ci.iloc[:, 1], color='k', alpha=.15)\n",
        "plt.title('Arima Forecast')\n",
        "plt.legend()\n",
        "plt.show()"
      ],
      "metadata": {
        "id": "QbX2x64fu7AK"
      },
      "execution_count": null,
      "outputs": []
    },
    {
      "cell_type": "code",
      "source": [
        "sarima_model=sm.tsa.statespace.SARIMAX(train_data,\n",
        "                                       order=(1,1,1),\n",
        "                                       seasonal_order=(1,1,1,12),\n",
        "                                       enforce_stationarity=False,\n",
        "                                       enforce_invertibility=False,\n",
        "                                       freq='MS')\n",
        "sarima_res=sarima_model.fit()\n",
        "sarima_forecast=sarima_res.get_forecast(steps=len(test_data))\n",
        "sarima_forecast_ci=sarima_forecast.conf_int()\n",
        "plt.figure(figsize=(14, 7))\n",
        "plt.plot(df_log, label=' Log Data')\n",
        "plt.plot(sarima_forecast.predicted_mean, label='SARIMA Forecast', color='red')\n",
        "plt.fill_between(sarima_forecast_ci.index, sarima_forecast_ci.iloc[:, 0], sarima_forecast_ci.iloc[:, 1], color='r', alpha=.15)\n",
        "plt.title('Sarima Forecast')\n",
        "plt.legend()\n",
        "plt.show()"
      ],
      "metadata": {
        "id": "ae9N0oVfffVM"
      },
      "execution_count": null,
      "outputs": []
    },
    {
      "cell_type": "code",
      "source": [
        "original_test_data=np.exp(test_data)\n",
        "sarima_predict=np.exp(sarima_forecast.predicted_mean)\n",
        "rmse=np.sqrt(mean_squared_error(original_test_data,sarima_predict))\n",
        "print(f\"sarima model RSME:{rmse:.2f}\")\n",
        "plt.figure(figsize=(14,7))\n",
        "plt.plot(df['Passengers'],label='Original Data')\n",
        "plt.plot(sarima_predict,label='SARIMA FORECAST',color='red')\n",
        "plt.title('SARIMA Forecast vs Original Data')\n",
        "plt.legend()\n",
        "plt.show()"
      ],
      "metadata": {
        "id": "bjcZVmGKgPi2"
      },
      "execution_count": null,
      "outputs": []
    },
    {
      "cell_type": "code",
      "source": [],
      "metadata": {
        "id": "_zsH9In6hnha"
      },
      "execution_count": null,
      "outputs": []
    }
  ]
}