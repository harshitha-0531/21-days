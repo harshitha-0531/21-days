{
  "nbformat": 4,
  "nbformat_minor": 0,
  "metadata": {
    "colab": {
      "provenance": []
    },
    "kernelspec": {
      "name": "python3",
      "display_name": "Python 3"
    },
    "language_info": {
      "name": "python"
    }
  },
  "cells": [
    {
      "cell_type": "code",
      "source": [
        "import pandas as pd\n",
        "import numpy as np\n",
        "import matplotlib.pyplot as plt\n",
        "import seaborn as sns\n",
        "from wordcloud import WordCloud\n",
        "sns.set_style ('darkgrid')"
      ],
      "metadata": {
        "id": "X84a5XCZ-Nax"
      },
      "execution_count": null,
      "outputs": []
    },
    {
      "cell_type": "code",
      "source": [
        "!git clone \"https://github.com/GeeksforgeeksDS/21-Days-21-Projects-Dataset\""
      ],
      "metadata": {
        "id": "98U6ATfi-oEW"
      },
      "execution_count": null,
      "outputs": []
    },
    {
      "cell_type": "code",
      "source": [
        "df=pd.read_csv('/content/21-Days-21-Projects-Dataset/Datasets/netflix_titles.csv')"
      ],
      "metadata": {
        "id": "eUp7zcyI_hAh"
      },
      "execution_count": null,
      "outputs": []
    },
    {
      "cell_type": "code",
      "source": [
        "df.info()"
      ],
      "metadata": {
        "id": "AdTkGy2_ACzt"
      },
      "execution_count": null,
      "outputs": []
    },
    {
      "cell_type": "code",
      "source": [
        "df.head()"
      ],
      "metadata": {
        "id": "MomikizUAJ1R"
      },
      "execution_count": null,
      "outputs": []
    },
    {
      "cell_type": "code",
      "metadata": {
        "id": "8465a615"
      },
      "source": [
        "# Check for missing values\n",
        "print(df.isnull().sum())"
      ],
      "execution_count": null,
      "outputs": []
    },
    {
      "cell_type": "code",
      "metadata": {
        "id": "5bcb8363"
      },
      "source": [
        "df['country'] = df['country'].fillna('Unknown')\n",
        "df['director'] = df['director'].fillna('Unknown')\n",
        "df['cast'] = df['cast'].fillna('Unknown')\n",
        "# df['rating'].fillna('Unknown', inplace=True)\n",
        "df.dropna(subset=['date_added','rating'], inplace=True)\n",
        "\n",
        "print(df.isnull().sum())"
      ],
      "execution_count": null,
      "outputs": []
    },
    {
      "cell_type": "code",
      "metadata": {
        "id": "e60d759b"
      },
      "source": [
        "df['date_added'] = pd.to_datetime(df['date_added'], format='mixed')\n",
        "df['year_added'] = df['date_added'].dt.year\n",
        "df['month_added'] = df['date_added'].dt.month\n",
        "display(df.head())"
      ],
      "execution_count": null,
      "outputs": []
    },
    {
      "cell_type": "code",
      "source": [
        "print(df.isnull().sum())\n",
        "print(df.dtypes)"
      ],
      "metadata": {
        "id": "3Iq64DkVW7ZJ"
      },
      "execution_count": null,
      "outputs": []
    },
    {
      "cell_type": "code",
      "source": [
        "# exploring using pie chart\n",
        "plt.figure(figsize=(10,10))\n",
        "type_counts=df['type'].value_counts()\n",
        "plt.pie(type_counts,labels=type_counts.index,autopct='%1.f%%',startangle=140,colors=['#e60023','#221f1f'])\n",
        "plt.title('proportion of movies vs TV shows')\n",
        "plt.ylabel('')\n",
        "plt.show()"
      ],
      "metadata": {
        "id": "3Mb1-E-HbpOu"
      },
      "execution_count": null,
      "outputs": []
    },
    {
      "cell_type": "code",
      "source": [
        "# handling multi-valued columns\n",
        "genres =df.assign(genres=df['listed_in'].str.split(',')).explode('genres')\n",
        "genres.head()\n",
        "# top generes\n",
        "top_genres = genres['genres'].value_counts().reset_index()\n",
        "top_genres.columns = ['Genre', 'Count']\n",
        "top_genres.head(15)"
      ],
      "metadata": {
        "id": "j-6tmBxshPL_"
      },
      "execution_count": null,
      "outputs": []
    },
    {
      "cell_type": "code",
      "source": [
        "# in barplot\n",
        "plt.figure(figsize=(10, 6))\n",
        "sns.barplot(x='Genre', y='Count', data=top_genres.head(15))\n",
        "plt.xticks(rotation=90)"
      ],
      "metadata": {
        "id": "T8nvgz-ji0Xj"
      },
      "execution_count": null,
      "outputs": []
    },
    {
      "cell_type": "code",
      "source": [
        "# separate tv shows and movies\n",
        "tv_shows = df[df['type'] == 'TV Show'].copy()\n",
        "movies = df[df['type'] == 'Movie'].copy()"
      ],
      "metadata": {
        "id": "X2eeCGbHjHyB"
      },
      "execution_count": null,
      "outputs": []
    },
    {
      "cell_type": "code",
      "source": [
        "# convert duration for movies and tv shows\n",
        "movies['duration'] = movies['duration'].str.extract('(\\d+)').astype(int)\n",
        "tv_shows['duration'] = tv_shows['duration'].str.extract('(\\d+)').astype(int)"
      ],
      "metadata": {
        "id": "PaLWUZKOjZX7"
      },
      "execution_count": null,
      "outputs": []
    },
    {
      "cell_type": "code",
      "source": [
        "# subplots for movies and tv shows duration\n",
        "fig, axes = plt.subplots(1, 2, figsize=(15, 6))\n",
        "sns.histplot(movies['duration'], bins=20, ax=axes[0], kde=True, color='skyblue').set_title('Movies')\n",
        "sns.histplot(tv_shows['duration'], bins=20, ax=axes[1]).set_title('TV shows')\n",
        "plt.tight_layout()\n",
        "plt.show()"
      ],
      "metadata": {
        "id": "huvWNE60j0P2"
      },
      "execution_count": null,
      "outputs": []
    },
    {
      "cell_type": "code",
      "source": [
        "# combine all descrptions into single string\n",
        "descrption_text = ' '.join(df['description'])\n",
        "# create a word cloud image\n",
        "wordcloud = WordCloud(width=800, height=400, background_color='black').generate(descrption_text)\n",
        "# display\n",
        "plt.figure(figsize=(15, 15))\n",
        "plt.imshow(wordcloud, interpolation='bilinear')\n",
        "plt.axis('off')\n",
        "plt.show()"
      ],
      "metadata": {
        "id": "tAjqMnPOljHX"
      },
      "execution_count": null,
      "outputs": []
    },
    {
      "cell_type": "code",
      "source": [
        "# how has the distribution content rating changed over time\n",
        "rating_counts = df['rating'].value_counts().reset_index()\n",
        "rating_counts.columns = ['Rating', 'Count']\n",
        "rating_counts.head()"
      ],
      "metadata": {
        "id": "M9rMaCYJrjY9"
      },
      "execution_count": null,
      "outputs": []
    },
    {
      "cell_type": "code",
      "source": [
        "# relationship btwn content age and its type(movies vs tvshow)\n",
        "age_rating_counts = df.groupby(['rating', 'type']).size().reset_index(name='Count')\n",
        "age_rating_counts.head()\n",
        "\n"
      ],
      "metadata": {
        "id": "hlnmKjmJrs6q"
      },
      "execution_count": null,
      "outputs": []
    },
    {
      "cell_type": "code",
      "source": [
        "# top directors on netflix\n",
        "director_counts = df['director'].value_counts().reset_index()\n",
        "director_counts.columns = ['Director', 'Count']\n",
        "director_counts.head()"
      ],
      "metadata": {
        "id": "mb1wyXycsfLE"
      },
      "execution_count": null,
      "outputs": []
    },
    {
      "cell_type": "code",
      "source": [
        "\n",
        "# display\n",
        "plt.figure(figsize=(10, 6))\n",
        "sns.barplot(x='Director', y='Count', data=director_counts.head(10))\n",
        "plt.xticks(rotation=90)\n",
        "plt.show()\n"
      ],
      "metadata": {
        "id": "GKZbuslwsGDD"
      },
      "execution_count": null,
      "outputs": []
    },
    {
      "cell_type": "code",
      "source": [
        "# most common word pair  and phrases in content descrption\n",
        "from sklearn.feature_extraction.text import CountVectorizer\n",
        "from collections import Counter\n"
      ],
      "metadata": {
        "id": "98sGbr_zsljs"
      },
      "execution_count": null,
      "outputs": []
    },
    {
      "cell_type": "code",
      "metadata": {
        "id": "e788f32e"
      },
      "source": [
        "from sklearn.feature_extraction.text import CountVectorizer\n",
        "from collections import Counter\n",
        "\n",
        "all_descriptions = ' '.join(df['description'].dropna())\n",
        "\n",
        "\n",
        "vectorizer_bigram = CountVectorizer(ngram_range=(2, 2), stop_words='english')\n",
        "X_bigram = vectorizer_bigram.fit_transform([all_descriptions])\n",
        "bigram_counts = Counter(dict(zip(vectorizer_bigram.get_feature_names_out(), X_bigram.sum(axis=0).tolist()[0])))\n",
        "\n",
        "print(\"Most common word pairs (bigrams):\")\n",
        "for bigram, count in bigram_counts.most_common(10):\n",
        "    print(f\"{bigram}: {count}\")\n",
        "\n",
        "\n",
        "vectorizer_trigram = CountVectorizer(ngram_range=(3, 3), stop_words='english')\n",
        "X_trigram = vectorizer_trigram.fit_transform([all_descriptions])\n",
        "trigram_counts = Counter(dict(zip(vectorizer_trigram.get_feature_names_out(), X_trigram.sum(axis=0).tolist()[0])))\n",
        "\n",
        "print(\"\\nMost common three-word phrases (trigrams):\")\n",
        "for trigram, count in trigram_counts.most_common(10):\n",
        "    print(f\"{trigram}: {count}\")"
      ],
      "execution_count": null,
      "outputs": []
    },
    {
      "cell_type": "code",
      "source": [
        "# Can we identify any trends in content production based on the release year vs. the year added to Netflix?\n",
        "release_year_counts = df['release_year'].value_counts().reset_index()\n",
        "release_year_counts.columns = ['Release Year', 'Count']\n",
        "release_year_counts.head()\n"
      ],
      "metadata": {
        "id": "atD6EXDBthxQ"
      },
      "execution_count": null,
      "outputs": []
    },
    {
      "cell_type": "code",
      "metadata": {
        "id": "36e68dc7"
      },
      "source": [
        "\n",
        "year_added_counts = df['year_added'].value_counts().reset_index()\n",
        "year_added_counts.columns = ['Year Added', 'Count']\n",
        "year_added_counts = year_added_counts.sort_values(by='Year Added')\n",
        "\n",
        "\n",
        "release_year_counts_sorted = release_year_counts.sort_values(by='Release Year')\n",
        "# display\n",
        "plt.figure(figsize=(12, 6))\n",
        "sns.lineplot(x='Year Added', y='Count', data=year_added_counts, marker='o', label='Year Added')\n",
        "sns.lineplot(x='Release Year', y='Count', data=release_year_counts_sorted, marker='o', label='Release Year')\n",
        "plt.title('Content Count by Release Year vs. Year Added to Netflix')\n",
        "plt.xlabel('Year')\n",
        "plt.ylabel('Count')\n",
        "plt.legend()\n",
        "plt.grid(True)\n",
        "plt.show()"
      ],
      "execution_count": null,
      "outputs": []
    },
    {
      "cell_type": "code",
      "source": [
        "pip install ydata-profiling"
      ],
      "metadata": {
        "id": "5F03IlUX04OC"
      },
      "execution_count": null,
      "outputs": []
    },
    {
      "cell_type": "code",
      "source": [
        "from ydata_profiling import ProfileReport\n",
        "rep= ProfileReport(df,title=\"Netflix Report\")\n",
        "rep.to_file(output_file='netflix.html')"
      ],
      "metadata": {
        "id": "badpodAby38L"
      },
      "execution_count": null,
      "outputs": []
    },
    {
      "cell_type": "code",
      "source": [
        "from google.colab import files\n",
        "files.download('netflix.html')"
      ],
      "metadata": {
        "id": "HL7b6Hdr1mPb"
      },
      "execution_count": null,
      "outputs": []
    }
  ]
}